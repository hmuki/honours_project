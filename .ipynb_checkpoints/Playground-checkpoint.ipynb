{
 "cells": [
  {
   "cell_type": "markdown",
   "metadata": {
    "colab_type": "text",
    "id": "view-in-github"
   },
   "source": [
    "<a href=\"https://colab.research.google.com/github/harvineet/py-gpfa/blob/master/GPFA_sampling.ipynb\" target=\"_parent\"><img src=\"https://colab.research.google.com/assets/colab-badge.svg\" alt=\"Open In Colab\"/></a>"
   ]
  },
  {
   "cell_type": "code",
   "execution_count": 1,
   "metadata": {},
   "outputs": [],
   "source": [
    "import numpy as np\n",
    "from matplotlib import pyplot as plt"
   ]
  },
  {
   "cell_type": "code",
   "execution_count": 19,
   "metadata": {},
   "outputs": [
    {
     "name": "stdout",
     "output_type": "stream",
     "text": [
      "[1.     0.01   0.0225 0.04   0.0625 0.09   0.1225 0.16   0.2025 0.25\n",
      " 0.3025 0.36   0.4225 0.49   0.5625 0.64   0.7225 0.81   0.9025 1.    ]\n",
      "\n",
      "[ 1.57173696e+03 -3.70683245e+02 -2.94709253e+02 -2.32359027e+02\n",
      " -1.80943615e+02 -1.38790911e+02 -1.04573801e+02 -7.71515480e+01\n",
      " -5.55132946e+01 -3.87528948e+01 -2.60558741e+01 -1.66918474e+01\n",
      " -1.00096576e+01 -5.43398202e+00 -2.46278497e+00 -6.65289216e-01\n",
      "  3.19711301e-01  7.85298381e-01  9.97361815e-01  9.57692247e-01]\n"
     ]
    },
    {
     "data": {
      "image/png": "[encoded data removed]",
      "text/plain": [
       "<Figure size 576x432 with 1 Axes>"
      ]
     },
     "metadata": {
      "needs_background": "light"
     },
     "output_type": "display_data"
    }
   ],
   "source": [
    "\n",
    "x_dim = 2\n",
    "lp = 0.5\n",
    "p = 20\n",
    "le = 100\n",
    "T = 20\n",
    "\n",
    "idx = np.arange(0, x_dim*(T-1)+1, x_dim) # TODO check if 0 : xDim : (xDim*(T-1))\n",
    "\n",
    "K_big = np.zeros((x_dim*T,x_dim*T))\n",
    "K_big_inv = np.zeros((x_dim*T,x_dim*T))\n",
    "\n",
    "Tdif = np.tile(np.arange(1,T+1).reshape((T,1)), (1, T)) - np.tile(np.arange(1,T+1), (T, 1))\n",
    "diffSq = Tdif ** 2\n",
    "\n",
    "# normalised polynomial\n",
    "K = np.array([[0 if i==j else (i*j)**2/(T**4) for j in range(1,T+1)] for i in range(1,T+1)]) \\\n",
    " + np.eye(T)\n",
    "\n",
    "print(K[0])\n",
    "print()\n",
    "print(np.linalg.eig(K)[0])\n",
    "\n",
    "plt.figure(figsize=(8,6))\n",
    "plt.plot(K[0])\n",
    "plt.show()"
   ]
  },
  {
   "cell_type": "code",
   "execution_count": 19,
   "metadata": {},
   "outputs": [
    {
     "data": {
      "text/plain": [
       "{'a': [], 'label': 'experiment'}"
      ]
     },
     "execution_count": 19,
     "metadata": {},
     "output_type": "execute_result"
    }
   ],
   "source": [
    "from scipy.io import savemat\n",
    "a = np.arange(20)\n",
    "mdic = {\"a\": [], \"label\": \"experiment\"}\n",
    "mdic"
   ]
  },
  {
   "cell_type": "code",
   "execution_count": 20,
   "metadata": {},
   "outputs": [],
   "source": [
    "savemat(\"matlab_matrix.mat\", mdic)"
   ]
  },
  {
   "cell_type": "code",
   "execution_count": null,
   "metadata": {},
   "outputs": [],
   "source": []
  },
  {
   "cell_type": "code",
   "execution_count": null,
   "metadata": {},
   "outputs": [],
   "source": []
  }
 ],
 "metadata": {
  "colab": {
   "collapsed_sections": [],
   "include_colab_link": true,
   "name": "GPFA sampling.ipynb",
   "provenance": [],
   "version": "0.3.2"
  },
  "kernelspec": {
   "display_name": "Python 3 (ipykernel)",
   "language": "python",
   "name": "python3"
  },
  "language_info": {
   "codemirror_mode": {
    "name": "ipython",
    "version": 3
   },
   "file_extension": ".py",
   "mimetype": "text/x-python",
   "name": "python",
   "nbconvert_exporter": "python",
   "pygments_lexer": "ipython3",
   "version": "3.7.11"
  }
 },
 "nbformat": 4,
 "nbformat_minor": 1
}
