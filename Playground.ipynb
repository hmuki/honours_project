{
 "cells": [
  {
   "cell_type": "markdown",
   "metadata": {
    "colab_type": "text",
    "id": "view-in-github"
   },
   "source": [
    "<a href=\"https://colab.research.google.com/github/harvineet/py-gpfa/blob/master/GPFA_sampling.ipynb\" target=\"_parent\"><img src=\"https://colab.research.google.com/assets/colab-badge.svg\" alt=\"Open In Colab\"/></a>"
   ]
  },
  {
   "cell_type": "code",
   "execution_count": 1,
   "metadata": {},
   "outputs": [],
   "source": [
    "import numpy as np\n",
    "from matplotlib import pyplot as plt"
   ]
  },
  {
   "cell_type": "code",
   "execution_count": 83,
   "metadata": {},
   "outputs": [
    {
     "name": "stdout",
     "output_type": "stream",
     "text": [
      "[1.         0.70710678 0.4472136  0.31622777 0.24253563 0.19611614\n",
      " 0.16439899 0.14142136 0.12403473 0.11043153 0.09950372 0.09053575\n",
      " 0.08304548 0.0766965  0.07124705 0.06651901 0.06237829 0.05872202\n",
      " 0.05547002 0.05255883]\n",
      "\n",
      "[5.57887107 3.23015339 2.32269268 1.74317578 1.35760736 1.07176006\n",
      " 0.86027569 0.69543393 0.56798899 0.46637656 0.38611345 0.32152201\n",
      " 0.27009069 0.22878667 0.19609969 0.17035278 0.15062416 0.13600608\n",
      " 0.12009707 0.12597191]\n"
     ]
    },
    {
     "data": {
      "image/png": "[encoded data removed]",
      "text/plain": [
       "<Figure size 504x504 with 1 Axes>"
      ]
     },
     "metadata": {
      "needs_background": "light"
     },
     "output_type": "display_data"
    }
   ],
   "source": [
    "\n",
    "x_dim = 2\n",
    "lp = 0.5\n",
    "p = 20\n",
    "le = 100\n",
    "T = 20\n",
    "\n",
    "idx = np.arange(0, x_dim*(T-1)+1, x_dim) # TODO check if 0 : xDim : (xDim*(T-1))\n",
    "\n",
    "K_big = np.zeros((x_dim*T,x_dim*T))\n",
    "K_big_inv = np.zeros((x_dim*T,x_dim*T))\n",
    "\n",
    "Tdif = np.tile(np.arange(1,T+1).reshape((T,1)), (1, T)) - np.tile(np.arange(1,T+1), (T, 1))\n",
    "diffSq = Tdif ** 2\n",
    "\n",
    "# inverse multiquadric kernel\n",
    "K = 1/np.sqrt(diffSq + 1)\n",
    "\n",
    "print(K[0])\n",
    "print()\n",
    "print(np.linalg.eig(K)[0])\n",
    "\n",
    "plt.figure(figsize=(7,7))\n",
    "plt.plot(K[0])\n",
    "plt.show()\n",
    "\n"
   ]
  },
  {
   "cell_type": "code",
   "execution_count": 19,
   "metadata": {},
   "outputs": [
    {
     "data": {
      "text/plain": [
       "{'a': [], 'label': 'experiment'}"
      ]
     },
     "execution_count": 19,
     "metadata": {},
     "output_type": "execute_result"
    }
   ],
   "source": [
    "from scipy.io import savemat\n",
    "a = np.arange(20)\n",
    "mdic = {\"a\": [], \"label\": \"experiment\"}\n",
    "mdic"
   ]
  },
  {
   "cell_type": "code",
   "execution_count": 20,
   "metadata": {},
   "outputs": [],
   "source": [
    "savemat(\"matlab_matrix.mat\", mdic)"
   ]
  },
  {
   "cell_type": "code",
   "execution_count": 40,
   "metadata": {},
   "outputs": [
    {
     "data": {
      "text/plain": [
       "20"
      ]
     },
     "execution_count": 40,
     "metadata": {},
     "output_type": "execute_result"
    }
   ],
   "source": [
    "res = np.dot(np.dot(np.array([1,1]).T, np.diag([10, 10])), np.array([1,1]))\n",
    "res"
   ]
  },
  {
   "cell_type": "code",
   "execution_count": null,
   "metadata": {},
   "outputs": [],
   "source": []
  }
 ],
 "metadata": {
  "colab": {
   "collapsed_sections": [],
   "include_colab_link": true,
   "name": "GPFA sampling.ipynb",
   "provenance": [],
   "version": "0.3.2"
  },
  "kernelspec": {
   "display_name": "Python 3 (ipykernel)",
   "language": "python",
   "name": "python3"
  },
  "language_info": {
   "codemirror_mode": {
    "name": "ipython",
    "version": 3
   },
   "file_extension": ".py",
   "mimetype": "text/x-python",
   "name": "python",
   "nbconvert_exporter": "python",
   "pygments_lexer": "ipython3",
   "version": "3.7.11"
  }
 },
 "nbformat": 4,
 "nbformat_minor": 1
}
